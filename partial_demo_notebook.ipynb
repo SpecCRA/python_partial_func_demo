{
 "metadata": {
  "language_info": {
   "codemirror_mode": {
    "name": "ipython",
    "version": 3
   },
   "file_extension": ".py",
   "mimetype": "text/x-python",
   "name": "python",
   "nbconvert_exporter": "python",
   "pygments_lexer": "ipython3",
   "version": "3.8.5-final"
  },
  "orig_nbformat": 2,
  "kernelspec": {
   "name": "python3",
   "display_name": "Python 3",
   "language": "python"
  }
 },
 "nbformat": 4,
 "nbformat_minor": 2,
 "cells": [
  {
   "source": [
    "# Python function - partial"
   ],
   "cell_type": "markdown",
   "metadata": {}
  },
  {
   "cell_type": "code",
   "execution_count": 1,
   "metadata": {},
   "outputs": [],
   "source": [
    "from functools import partial"
   ]
  },
  {
   "source": [
    "# Explanation\n",
    "\n",
    "There are times when you write an entire function with multiple parameters, but you only want to change a few things as you go. The `partial` function allows you to fill just one or a few of those parameters without needing to copy and paste everything again."
   ],
   "cell_type": "markdown",
   "metadata": {}
  },
  {
   "source": [
    "# Examples"
   ],
   "cell_type": "markdown",
   "metadata": {}
  },
  {
   "cell_type": "code",
   "execution_count": 3,
   "metadata": {},
   "outputs": [],
   "source": [
    "def add_numbers(x, y, z):\n",
    "    \"\"\"\n",
    "    This function adds integers x, y, and z.\n",
    "    \"\"\"\n",
    "\n",
    "    return (x+y+z)"
   ]
  },
  {
   "source": [
    "## Problem: Adding a list of numbers\n",
    "\n",
    "Say we want to add a list of numbers."
   ],
   "cell_type": "markdown",
   "metadata": {}
  },
  {
   "cell_type": "code",
   "execution_count": 5,
   "metadata": {},
   "outputs": [],
   "source": [
    "# The list of numbers are represented in tuples\n",
    "numsToAdd = [\n",
    "    (1, 2, 3),\n",
    "    (4, 5, 8),\n",
    "    (2, 5, 7)\n",
    "]"
   ]
  },
  {
   "cell_type": "code",
   "execution_count": 7,
   "metadata": {},
   "outputs": [
    {
     "output_type": "stream",
     "name": "stdout",
     "text": [
      "6\n17\n14\n"
     ]
    }
   ],
   "source": [
    "for nums in numsToAdd:\n",
    "    summedNums = add_numbers(nums[0], nums[1], nums[2])\n",
    "    print(summedNums)"
   ]
  },
  {
   "source": [
    "## New problem: we want to replace the first number of every tuple with 0"
   ],
   "cell_type": "markdown",
   "metadata": {}
  },
  {
   "cell_type": "code",
   "execution_count": 9,
   "metadata": {},
   "outputs": [],
   "source": [
    "# Create a partial function object with the function and parameters you want to fill\n",
    "partialFunc = partial(add_numbers, y = 2, z = 3)"
   ]
  },
  {
   "cell_type": "code",
   "execution_count": 11,
   "metadata": {},
   "outputs": [
    {
     "output_type": "execute_result",
     "data": {
      "text/plain": [
       "5"
      ]
     },
     "metadata": {},
     "execution_count": 11
    }
   ],
   "source": [
    "# Now, make x = 0\n",
    "# This is now 0 + 2 + 3\n",
    "partialFunc(x=0)"
   ]
  },
  {
   "cell_type": "code",
   "execution_count": 13,
   "metadata": {},
   "outputs": [],
   "source": [
    "# You can do the same with two parameters\n",
    "partialFunc = partial(add_numbers, z = 3)"
   ]
  },
  {
   "cell_type": "code",
   "execution_count": 15,
   "metadata": {},
   "outputs": [
    {
     "output_type": "execute_result",
     "data": {
      "text/plain": [
       "4"
      ]
     },
     "metadata": {},
     "execution_count": 15
    }
   ],
   "source": [
    "# This is now 0 + 1 + 3\n",
    "partialFunc(x = 0, y = 1)"
   ]
  },
  {
   "source": [
    "## Looping through the numbers and replacing each x with 0"
   ],
   "cell_type": "markdown",
   "metadata": {}
  },
  {
   "cell_type": "code",
   "execution_count": 16,
   "metadata": {},
   "outputs": [
    {
     "output_type": "stream",
     "name": "stdout",
     "text": [
      "5\n13\n12\n"
     ]
    }
   ],
   "source": [
    "for nums in numsToAdd:\n",
    "    partialFunc = partial(add_numbers, y = nums[1], z = nums[2])\n",
    "    print(partialFunc(x=0))"
   ]
  }
 ]
}